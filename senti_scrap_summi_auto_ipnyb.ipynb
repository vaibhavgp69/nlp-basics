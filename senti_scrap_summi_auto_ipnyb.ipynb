{
  "nbformat": 4,
  "nbformat_minor": 0,
  "metadata": {
    "colab": {
      "provenance": [],
      "authorship_tag": "ABX9TyNMfZqP7CwHzsW/2NlQw7w4",
      "include_colab_link": true
    },
    "kernelspec": {
      "name": "python3",
      "display_name": "Python 3"
    },
    "language_info": {
      "name": "python"
    }
  },
  "cells": [
    {
      "cell_type": "markdown",
      "metadata": {
        "id": "view-in-github",
        "colab_type": "text"
      },
      "source": [
        "<a href=\"https://colab.research.google.com/github/vaibhavgp69/nlp-basics/blob/main/senti_scrap_summi_auto_ipnyb.ipynb\" target=\"_parent\"><img src=\"https://colab.research.google.com/assets/colab-badge.svg\" alt=\"Open In Colab\"/></a>"
      ]
    },
    {
      "cell_type": "code",
      "execution_count": null,
      "metadata": {
        "id": "Gl8V3AtAjCXw"
      },
      "outputs": [],
      "source": [
        "!pip3 install torch torchvision torchaudio --index-url https://download.pytorch.org/whl/cu118\n",
        "!pip install transformers numpy pandas beautifulsoup4 requests\n",
        "!pip install sentencepiece\n",
        "!pip install rouge\n",
        "from transformers import AutoTokenizer, AutoModelForSequenceClassification\n",
        "import torch\n",
        "import requests\n",
        "from bs4 import BeautifulSoup\n",
        "import re\n",
        "import matplotlib.pyplot as plt"
      ]
    },
    {
      "cell_type": "code",
      "source": [
        "class sentiment_analysis:\n",
        "    \n",
        "    def __init__(self,text):\n",
        "        self.text=text       \n",
        "    def score(self):\n",
        "        global sc\n",
        "        tokenizer = AutoTokenizer.from_pretrained('nlptown/bert-base-multilingual-uncased-sentiment')\n",
        "        model = AutoModelForSequenceClassification.from_pretrained('nlptown/bert-base-multilingual-uncased-sentiment')\n",
        "        tokens = tokenizer.encode(self.text, return_tensors='pt')\n",
        "        result = model(tokens)\n",
        "        sentiment=['Very Opposing','Slightly Negative','Needs improvement','Slightly positive','Complete Grant']\n",
        "        sc=sentiment[int(torch.argmax(result.logits))]\n",
        "        return int(torch.argmax(result.logits))"
      ],
      "metadata": {
        "id": "rGI9ZMCYkv74"
      },
      "execution_count": 39,
      "outputs": []
    },
    {
      "cell_type": "code",
      "source": [
        "\n",
        "comments = [\n",
        "    \"I do not approve with this bill , it is very harmfull and effective\"\n",
        "    \"This amendment is a significant milestone in protecting the rights and well-being of young girls.\",\n",
        "    \"Raising the minimum age of marriage is a crucial step towards eradicating the harmful practice of child marriage.\",\n",
        "    \"While it's important to address child marriage, we must also focus on tackling the underlying socio-economic factors that perpetuate it.\",\n",
        "    \"This amendment reflects a positive societal shift towards prioritizing the education and development of young girls.\",\n",
        "    \"The government should complement this amendment with comprehensive sex education programs to effectively combat child marriages.\",\n",
        "    \"Raising the age limit for marriage can help prevent coerced marriages and empower girls to make informed choices about their lives.\",\n",
        "    \"It's essential to strike a balance between respecting cultural traditions and ensuring the rights and autonomy of young girls.\",\n",
        "    \"Addressing child marriage requires a holistic approach involving education, awareness, and strict legal measures.\",\n",
        "    \"Raising the age of marriage should be accompanied by initiatives to promote gender equality and empower girls through education and skill development.\",\n",
        "    \"While this amendment is commendable, it must be accompanied by effective implementation and enforcement across all communities.\",\n",
        "    \"Combating child marriage necessitates collaboration among the government, civil society organizations, and local communities.\",\n",
        "    \"Raising the age of marriage should be coupled with efforts to eliminate dowry practices and other harmful customs associated with early marriages.\",\n",
        "    \"Legislative reforms that protect the rights of vulnerable sections, such as young girls, are a positive sign of progress.\",\n",
        "    \"Child marriage perpetuates a cycle of poverty and curtails opportunities for girls. This amendment is a significant step towards breaking that cycle.\",\n",
        "    \"Sustained awareness campaigns and community engagement are crucial to change mindsets and create a society that rejects child marriages.\",\n",
        "    \"This amendment should be viewed as part of a broader initiative to address gender inequality and promote women's empowerment.\",\n",
        "    \"Support and rehabilitation programs must be provided to girls who have already been affected by child marriages, in addition to raising the age of marriage.\",\n",
        "    \"Community leaders and religious institutions should actively promote education and discourage early marriages to protect young girls.\",\n",
        "    \"Creating an environment where young girls can exercise their agency and contribute meaningfully to society is paramount.\",\n",
        "    \"This amendment symbolizes the progress being made in safeguarding the rights of girls and protecting them from the consequences of child marriages.\"]\n",
        "rating=[]\n",
        "for i in comments:\n",
        "  s=sentiment_analysis(i)\n",
        "  rating.append(s.score())\n",
        "\n"
      ],
      "metadata": {
        "id": "uKerkat8pi6W"
      },
      "execution_count": 40,
      "outputs": []
    },
    {
      "cell_type": "code",
      "source": [
        "import seaborn as sns\n",
        "sns.histplot(data=rating)"
      ],
      "metadata": {
        "id": "DT3uLIjqqfgP"
      },
      "execution_count": null,
      "outputs": []
    },
    {
      "cell_type": "markdown",
      "source": [
        "COMMENT ANALYSIS MODEL ABOVE\n",
        "^\n",
        "|\n",
        "|\n",
        "-------------------------\n",
        "Web scarping summary key points below"
      ],
      "metadata": {
        "id": "-xXwtq4Lqe9j"
      }
    },
    {
      "cell_type": "code",
      "source": [
        "import requests\n",
        "from bs4 import BeautifulSoup\n",
        "url='https://prsindia.org/billtrack/the-taxation-laws-amendment-bill-2016'\n",
        "html=requests.get(url)\n",
        "s=BeautifulSoup(html.content,'html.parser')\n",
        "# print(s.prettify())\n",
        "key=s.find_all('a',title='PRS Bill Summary')\n",
        "for i in key:\n",
        "  k=i.get('href')\n",
        "key\n",
        "url2=('https://prsindia.org'+k)\n",
        "url2\n",
        "html2=requests.get(url2)\n",
        "s1=BeautifulSoup(html2.content,'html.parser')\n",
        "key1=s1.find(class_='body_content')\n"
      ],
      "metadata": {
        "id": "p7DoXyTAqtC4"
      },
      "execution_count": 36,
      "outputs": []
    },
    {
      "cell_type": "code",
      "source": [
        "#TO GET HEADING AND SUMMARY OF BILL\n",
        "import unicodedata\n",
        "key_points=[]\n",
        "heading=[]\n",
        "ministry=[]\n",
        "status=[]\n",
        "pdf_link=[]\n",
        "k=key1.find_all('ul')\n",
        "k\n",
        "if not k:\n",
        "  k=s.find_all('ul')\n",
        "  \n",
        "  for i in range(3,len(k)-5):\n",
        "     key_points.append(unicodedata.normalize(\"NFKD\",k[i].get_text(strip='True')))\n",
        "  #  print(k[i].get_text(strip='True')+'\\n')\n",
        "elif len(k)==1:\n",
        "  k=key1.find_all('span',style='font-size:16px')\n",
        "  if not k:\n",
        "    k=key1.find_all('span',style='font-family:Times New Roman,Times,serif')\n",
        "    for i in k:\n",
        "      key_points.append(unicodedata.normalize(\"NFKD\",i.get_text(strip='True')))\n",
        "  else:\n",
        "    for i in k:\n",
        "      key_points.append(unicodedata.normalize(\"NFKD\",i.get_text(strip='True')))\n",
        "else:\n",
        "   k=key1.find_all('span',style='font-family:Times New Roman,Times,serif')\n",
        "   if  k:\n",
        "    for i in k:\n",
        "      key_points.append(unicodedata.normalize(\"NFKD\",i.get_text(strip='True')))\n",
        "   else:\n",
        "    k=key1.find_all('span',style='font-family:\"Times New Roman\",serif')\n",
        "    for i in k:\n",
        "      key_points.append(unicodedata.normalize(\"NFKD\",i.get_text(strip='True')))\n",
        "head=s.find_all('a',class_='active fs-28')\n",
        "for i in head:\n",
        "  heading.append(unicodedata.normalize(\"NFKD\",i.get_text(strip='True')))\n",
        "mini=s.find('div',class_='field field-name-field-ministry field-type-taxonomy-term-reference field-label-inline clearfix')\n",
        "# print(s.prettify())\n",
        "if mini:\n",
        "  for i in mini:\n",
        "    ministry.append(unicodedata.normalize(\"NFKD\",i.get_text(strip='True')))\n",
        "  ministry=ministry[3]  \n",
        "else:\n",
        "  ministry.append('None')\n",
        "  ministry=ministry[0]\n",
        "stat=s.find_all('div',class_='field field-name-field-own-status field-type-list-text field-label-hidden')\n",
        "if stat:\n",
        "  for i in stat:\n",
        "    status.append(unicodedata.normalize(\"NFKD\",i.get_text(strip='True')))\n",
        "else:\n",
        "  status.append('Unkown')\n",
        "data=[heading[0],ministry,status[len(status)-1],key_points[:len(key_points)-1]]\n",
        "# print(key1.prettify())\n",
        "data\n"
      ],
      "metadata": {
        "id": "kThJXqILt9jc"
      },
      "execution_count": null,
      "outputs": []
    },
    {
      "cell_type": "code",
      "source": [
        "print('\\n HEADING : \\n\\n'+heading[0][-4:])\n",
        "print('\\n KEY POINTS : \\n')\n",
        "for i in range(len(key_points)-1):\n",
        "  print(key_points[i]+'\\n')\n",
        "print('\\n MINISTRY : \\n\\n'+ministry+'\\n\\n')\n",
        "print(' STATUS : \\n')\n",
        "if status[len(status)-1]=='Passed':\n",
        "  print('Passed')\n",
        "else:\n",
        "  print('Pending')"
      ],
      "metadata": {
        "id": "nIT-R06vbJ7u"
      },
      "execution_count": null,
      "outputs": []
    },
    {
      "cell_type": "markdown",
      "source": [
        "**COMPILED CLASS BELOW FOR SCRAPING**"
      ],
      "metadata": {
        "id": "o1dEwNuYxjXn"
      }
    },
    {
      "cell_type": "code",
      "source": [
        "#do this to use this file - from bs import bill_info\n",
        "#create a object of the class bill_info(url) where url is a string of the https link to website\n",
        "#data = object.scrape() for storing all bills data in variable data \n",
        "#sends a array with [ heading , ministry  , status , key points]\n",
        "#object.show()to print and see them individually \n",
        "\n",
        "\n",
        "\n",
        "import requests\n",
        "from bs4 import BeautifulSoup\n",
        "import unicodedata\n",
        "class bill_info:\n",
        "  def __init__(self,url):\n",
        "    self.url = url\n",
        "  def scrape(self):\n",
        "    global key_points\n",
        "    global heading\n",
        "    global ministry\n",
        "    global status\n",
        "    global data\n",
        "    key_points=[]\n",
        "    heading=[]\n",
        "    ministry=[]\n",
        "    status=[]\n",
        "    data=[]\n",
        "    html=requests.get(self.url)\n",
        "    s=BeautifulSoup(html.content,'html.parser')\n",
        "    key=s.find_all('a',title='PRS Bill Summary')\n",
        "    for i in key:\n",
        "      k=i.get('href')\n",
        "    url2=('https://prsindia.org'+k)\n",
        "    url2\n",
        "    html2=requests.get(url2)\n",
        "    s1=BeautifulSoup(html2.content,'html.parser')\n",
        "    key1=s1.find(class_='body_content')\n",
        "    k=key1.find_all('ul')\n",
        "    if not k:\n",
        "     k=s.find_all('ul')\n",
        "     for i in range(3,len(k)-5):\n",
        "        key_points.append(unicodedata.normalize(\"NFKD\",k[i].get_text(strip='True')))\n",
        "    elif len(k)==1:\n",
        "      k=key1.find_all('span',style='font-size:16px')\n",
        "      if not k:\n",
        "        k=key1.find_all('span',style='font-family:Times New Roman,Times,serif')\n",
        "        for i in k:\n",
        "          key_points.append(unicodedata.normalize(\"NFKD\",i.get_text(strip='True')))\n",
        "      else:\n",
        "        for i in k:\n",
        "          key_points.append(unicodedata.normalize(\"NFKD\",i.get_text(strip='True')))\n",
        "    else:\n",
        "      k=key1.find_all('span',style='font-family:Times New Roman,Times,serif')\n",
        "      if  k:\n",
        "       for i in k:\n",
        "         key_points.append(unicodedata.normalize(\"NFKD\",i.get_text(strip='True')))\n",
        "      else:\n",
        "       k=key1.find_all('span',style='font-family:\"Times New Roman\",serif')\n",
        "       for i in k:\n",
        "         key_points.append(unicodedata.normalize(\"NFKD\",i.get_text(strip='True')))\n",
        "    head=s.find_all('a',class_='active fs-28')\n",
        "    for i in head:\n",
        "      heading.append(unicodedata.normalize(\"NFKD\",i.get_text(strip='True')))\n",
        "    mini=s.find('div',class_='field field-name-field-ministry field-type-taxonomy-term-reference field-label-inline clearfix')\n",
        "    if mini:\n",
        "        for i in mini:\n",
        "         ministry.append(unicodedata.normalize(\"NFKD\",i.get_text(strip='True')))\n",
        "        ministry=ministry[3]  \n",
        "    else:\n",
        "         ministry.append('None')\n",
        "         ministry=ministry[0]\n",
        "    stat=s.find_all('div',class_='field field-name-field-own-status field-type-list-text field-label-hidden')\n",
        "    if stat:\n",
        "        for i in stat:\n",
        "          status.append(unicodedata.normalize(\"NFKD\",i.get_text(strip='True')))\n",
        "    else:\n",
        "        status.append('Unkown')\n",
        "    data=[heading[0],ministry,status[len(status)-1],key_points[:len(key_points)-1]]\n",
        "    return data\n",
        "\n",
        "\n",
        "  def show(self):\n",
        "    print('\\n HEADING : \\n\\n'+heading[0])\n",
        "    \n",
        "    print('\\n MINISTRY : \\n\\n'+ministry+'\\n\\n')\n",
        "    print(' STATUS : \\n')\n",
        "    if status[len(status)-1]=='Passed':\n",
        "      print('Passed')\n",
        "    else:\n",
        "     print('Pending')\n",
        "    print('\\n KEY POINTS : \\n')\n",
        "    for i in range(len(key_points)-1):\n",
        "      print(key_points[i]+'\\n')"
      ],
      "metadata": {
        "id": "vjI3IoKGMAV3"
      },
      "execution_count": 10,
      "outputs": []
    },
    {
      "cell_type": "code",
      "source": [
        "url='https://prsindia.org/billtrack/the-indian-medicine-central-council-amendment-bill-2020'\n",
        "bill=bill_info(url)\n",
        "data=bill.scrape()\n",
        "bill.show()\n"
      ],
      "metadata": {
        "colab": {
          "base_uri": "https://localhost:8080/"
        },
        "id": "sIw2LX430W9G",
        "outputId": "d54227c9-9314-4868-ab98-76b799d43a6c"
      },
      "execution_count": 42,
      "outputs": [
        {
          "output_type": "stream",
          "name": "stdout",
          "text": [
            "\n",
            " HEADING : \n",
            "\n",
            "The Indian Medicine Central Council (Amendment) Bill, 2020\n",
            "\n",
            " MINISTRY : \n",
            "\n",
            "Health\n",
            "\n",
            "\n",
            " STATUS : \n",
            "\n",
            "Passed\n",
            "\n",
            " KEY POINTS : \n",
            "\n",
            "The Indian Medicine Central Council (Amendment) Bill, 2020 was introduced in Rajya Sabha on September 14, 2020.  The Bill amends the Indian Medicine Central Council Act, 1970.   The Act provides for the constitution of a Central Council which regulates the education and practice of the Indian Medicine system (includes Ayurveda, Yoga, Naturopathy).  The Bill replaces the Indian Medicine Central Council (Amendment) Ordinance, 2020 which was promulgated on April 24, 2020.\n",
            "\n",
            "Supersession of the Central Council:The Bill provides that the Central Council will stand superseded from April 24, 2020 (date of promulgation of the Ordinance).   The Central Council will be reconstituted within one year from the date of its supersession.  In the interim period, the central government will constitute a Board of Governors, which will exercise the powers of the Central Council.\n",
            "\n",
            "Board of Governors:The Board of Governors will consist of up to ten members.  The members will include persons of eminence in the field of Indian Medicine, and eminent administrators.  They may be either nominated members or ex officio members, appointed by the central government.  The central government will select one member to be the Chairperson of the Board.\n",
            "\n",
            "The Board will exercise the powers and discharge the functions of the Central Council (that is being superseded).  These include regulating the practice and education of Indian Medicine.\n",
            "\n"
          ]
        }
      ]
    },
    {
      "cell_type": "code",
      "source": [
        "#TO SCRAPE ALL BILLS WHICH ARE PENDING IN THE MAIN HOME PAGE WITH JUST 1 URL\n",
        "import requests\n",
        "from bs4 import BeautifulSoup\n",
        "url='https://prsindia.org/billtrack/category/all'\n",
        "html=requests.get(url)\n",
        "s=BeautifulSoup(html.content,'html.parser')\n",
        "mega_data=[]\n",
        "n=0\n",
        "key=s.find_all('div' ,class_=\"views-row\")\n",
        "for i in key:\n",
        "  if(n<19):\n",
        "    key2=i.find('a')\n",
        "    link='https://prsindia.org'+ key2.get('href')\n",
        "    key3=i.find('span' ,class_=\"status-pending\")\n",
        "    stat=key3.get_text(strip='True')\n",
        "    if(stat=='Pending'):\n",
        "      bill=bill_info(link)\n",
        "      mega_data.append(bill.scrape())\n",
        "      n+=1"
      ],
      "metadata": {
        "id": "nmo8d1TI6u6d"
      },
      "execution_count": null,
      "outputs": []
    },
    {
      "cell_type": "markdown",
      "source": [
        "**BELOW FOR SUMMARIZER MODEL**"
      ],
      "metadata": {
        "id": "4naugmqBcDjL"
      }
    },
    {
      "cell_type": "code",
      "source": [
        "\n",
        "from transformers import AutoModelWithLMHead, AutoTokenizer\n",
        "from transformers import pipeline\n",
        "from rouge import Rouge"
      ],
      "metadata": {
        "id": "ATT65DV9cKVh"
      },
      "execution_count": 20,
      "outputs": []
    },
    {
      "cell_type": "code",
      "source": [
        "#CLASS TO SUMMARIZE ACCORDING TO  USERS CHOICE\n",
        "class summarize:\n",
        "    def __init__(self,text,sum_index):\n",
        "        self.text=text\n",
        "        self.sum_index=sum_index       \n",
        "    def get(self):\n",
        "        num=len(self.text.split())\n",
        "        mid=round(num*self.sum_index)\n",
        "        low=round(mid-0.1*mid)\n",
        "        high=round(mid+0.1*mid)\n",
        "        summarizer = pipeline(\"summarization\")\n",
        "        return summarizer(self.text, max_length=high, min_length=low, do_sample=False)[0]['summary_text']\n"
      ],
      "metadata": {
        "id": "G3gFoAPYrc0D"
      },
      "execution_count": 17,
      "outputs": []
    },
    {
      "cell_type": "code",
      "source": [
        "sum_percent=60\n",
        "ref=' '.join(data[3])\n",
        "s=summarize(ref,sum_percent)\n",
        "model_distilbert=s.get()\n",
        "print(model_distilbert\n",
        "      \n",
        "      \n",
        "      \n",
        "      \n",
        "      )"
      ],
      "metadata": {
        "colab": {
          "base_uri": "https://localhost:8080/"
        },
        "id": "Polm2YiauSvT",
        "outputId": "a1272f55-b2a5-479d-f46f-6a81053b4bec"
      },
      "execution_count": null,
      "outputs": [
        {
          "output_type": "stream",
          "name": "stderr",
          "text": [
            "No model was supplied, defaulted to sshleifer/distilbart-cnn-12-6 and revision a4f8f3e (https://huggingface.co/sshleifer/distilbart-cnn-12-6).\n",
            "Using a pipeline without specifying a model name and revision in production is not recommended.\n",
            "Your max_length is set to 14322, but your input_length is only 290. Since this is a summarization task, where outputs shorter than the input are typically wanted, you might consider decreasing max_length manually, e.g. summarizer('...', max_length=145)\n"
          ]
        }
      ]
    },
    {
      "cell_type": "code",
      "source": [
        "rg=Rouge()\n",
        "model\n",
        "r=rg.get_scores(model_distilbert,ref)\n",
        "import pandas as pd\n",
        "df=pd.json_normalize(r)\n",
        "print(df)\n",
        "\n"
      ],
      "metadata": {
        "colab": {
          "base_uri": "https://localhost:8080/"
        },
        "id": "KTwu3BIn1GVH",
        "outputId": "6558054f-d551-45db-8611-05bc505e7e87"
      },
      "execution_count": 23,
      "outputs": [
        {
          "output_type": "stream",
          "name": "stdout",
          "text": [
            "   rouge-1.r  rouge-1.p  rouge-1.f  rouge-2.r  rouge-2.p  rouge-2.f  \\\n",
            "0   0.447619   0.979167   0.614379   0.346154   0.931034   0.504673   \n",
            "\n",
            "   rouge-l.r  rouge-l.p  rouge-l.f  \n",
            "0   0.447619   0.979167   0.614379  \n"
          ]
        }
      ]
    },
    {
      "cell_type": "code",
      "source": [
        "df.plot(kind='bar', x=0, title = 'Multiple Rouge Scores', colormap = 'viridis')\n",
        "#HIGH PRECISION ROUGE SCORE - Prediction based positive outcomes"
      ],
      "metadata": {
        "colab": {
          "base_uri": "https://localhost:8080/",
          "height": 638
        },
        "id": "E0zA1thrr317",
        "outputId": "e7f37b01-16c0-4c32-b504-dd0ded100c7c"
      },
      "execution_count": 24,
      "outputs": [
        {
          "output_type": "execute_result",
          "data": {
            "text/plain": [
              "<Axes: title={'center': 'Multiple Rouge Scores'}, xlabel='rouge-1.r'>"
            ]
          },
          "metadata": {},
          "execution_count": 24
        },
        {
          "output_type": "display_data",
          "data": {
            "text/plain": [
              "<Figure size 640x480 with 1 Axes>"
            ],
            "image/png": "[encoded data removed]"
          },
          "metadata": {}
        }
      ]
    }
  ]
}