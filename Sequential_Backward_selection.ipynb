{
  "nbformat": 4,
  "nbformat_minor": 0,
  "metadata": {
    "colab": {
      "provenance": [],
      "authorship_tag": "ABX9TyNQQY5r4R4KBvic32sgh8vr",
      "include_colab_link": true
    },
    "kernelspec": {
      "name": "python3",
      "display_name": "Python 3"
    },
    "language_info": {
      "name": "python"
    }
  },
  "cells": [
    {
      "cell_type": "markdown",
      "metadata": {
        "id": "view-in-github",
        "colab_type": "text"
      },
      "source": [
        "<a href=\"https://colab.research.google.com/github/vaibhavgp69/nlp-basics/blob/main/Sequential_Backward_selection.ipynb\" target=\"_parent\"><img src=\"https://colab.research.google.com/assets/colab-badge.svg\" alt=\"Open In Colab\"/></a>"
      ]
    },
    {
      "cell_type": "code",
      "execution_count": 2,
      "metadata": {
        "id": "sPUERYRbjNPs"
      },
      "outputs": [],
      "source": [
        "from sklearn.base import clone\n",
        "from itertools import combinations\n",
        "import numpy as np\n",
        "from sklearn.metrics import accuracy_score\n",
        "from sklearn.model_selection import train_test_split"
      ]
    },
    {
      "cell_type": "code",
      "source": [
        "# k_features parameter to spicify the desired number of features wanted to return  , transform function returns the new data array with selected feature columns\n",
        "\n",
        "class SBS():\n",
        "  def __init__(self,estimator,k_features,scoring=accuracy_score,test_size=0.25,random_state=10):\n",
        "    self.scoring=scoring\n",
        "    self.estimtor=clone(estimator)\n",
        "    self.k_features=k_features\n",
        "    self.test_size=test_size\n",
        "    self.random_state=random_state\n",
        "  def fit(self,X,y):\n",
        "    X_train,X_test,y_train,y_test=train_test_split(X,y,test_size=self.test_size,random_state=self.random_state)\n",
        "    dim=X_train.shape[1]\n",
        "    self.indices_=tuple(range(dim))\n",
        "    self.subsets_=[self.indices_]\n",
        "    score=self._calc_score(X_train,y_train,X_test,y_test,self.indices_)\n",
        "    self.scores=[score]\n",
        "    while dim>self.k_features:\n",
        "      scores= []\n",
        "      subsets=[]\n",
        "      for p in combinations(self.indices_,r=dim-1):\n",
        "        score=self._calc_score(X_train,y_train,X_test,y_test,p)\n",
        "        scores.append(score)\n",
        "        subsets.append(p)\n",
        "      best=np.argmax(scores)\n",
        "      self.indices_=subsets[best]\n",
        "      self.subsets_.append(self.indices_)\n",
        "      dim-=1\n",
        "      self.scores_.append(scores[best])\n",
        "    self.k_score_=self.scores_[-1]\n",
        "\n",
        "    return self\n",
        "\n",
        "\n",
        "  def transform(self,X):\n",
        "    return X[:,self.indices_]\n",
        "\n",
        "  def _calc_score(self,X_train,y_train,X_test,y_test,indices):\n",
        "    self.estimator.fit(X_train[:,indices],y_train)\n",
        "    y_pred=self.estimator.predict(X_test[:,indices])\n",
        "    score=self.scoring(y_test,y_pred)\n",
        "    return score\n",
        "                    "
      ],
      "metadata": {
        "id": "eLkm39Bjq_EN"
      },
      "execution_count": 3,
      "outputs": []
    },
    {
      "cell_type": "code",
      "source": [
        "# THIS CODE BELOW TO USE IT IN YOUR MODELS TO REDUCE DIMENSIONS ( also plot and anaylse if working)\n",
        "import matplotlib.pyplot as plt\n",
        "from sklearn.neighbors import KNeighborsClassifier\n",
        "knn=KNeighborsClassifier(n_neighours=5)\n",
        "sbs=SBS(knn,k_features=1)\n",
        "sbs.fit(X_train,y_train)\n",
        "k_feat=[len(k) for k in sbs.subsets_]\n",
        "plt.plot(k_feat,sbs.scores_,marker='o')\n",
        "plt.ylin([0.7 , 1.1])\n",
        "plt.ylabel('Accuracy')\n",
        "plt.xlabel('Number of features')\n",
        "plt.grid()\n",
        "plt.show()\n",
        "\n"
      ],
      "metadata": {
        "id": "9Atj5STRtyAN"
      },
      "execution_count": null,
      "outputs": []
    }
  ]
}